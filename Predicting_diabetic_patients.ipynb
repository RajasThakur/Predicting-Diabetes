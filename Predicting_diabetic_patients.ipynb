{
 "cells": [
  {
   "cell_type": "markdown",
   "metadata": {},
   "source": [
    "# Exploratory Data Analysis and Data Preprocessing"
   ]
  },
  {
   "cell_type": "code",
   "execution_count": 289,
   "metadata": {},
   "outputs": [],
   "source": [
    "import numpy as np\n",
    "import pandas as pd\n",
    "import matplotlib.pyplot as plt"
   ]
  },
  {
   "cell_type": "code",
   "execution_count": 377,
   "metadata": {},
   "outputs": [],
   "source": [
    "train=pd.read_csv(\"train.csv\")\n",
    "test=pd.read_csv(\"test.csv\")"
   ]
  },
  {
   "cell_type": "code",
   "execution_count": 291,
   "metadata": {},
   "outputs": [
    {
     "name": "stdout",
     "output_type": "stream",
     "text": [
      "<class 'pandas.core.frame.DataFrame'>\n",
      "RangeIndex: 500 entries, 0 to 499\n",
      "Data columns (total 9 columns):\n",
      " #   Column  Non-Null Count  Dtype  \n",
      "---  ------  --------------  -----  \n",
      " 0   A       500 non-null    int64  \n",
      " 1   B       500 non-null    int64  \n",
      " 2   C       500 non-null    int64  \n",
      " 3   D       360 non-null    float64\n",
      " 4   E       253 non-null    float64\n",
      " 5   F       492 non-null    float64\n",
      " 6   G       500 non-null    float64\n",
      " 7   H       500 non-null    int64  \n",
      " 8   Target  500 non-null    int64  \n",
      "dtypes: float64(4), int64(5)\n",
      "memory usage: 35.2 KB\n"
     ]
    }
   ],
   "source": [
    "train.info()"
   ]
  },
  {
   "cell_type": "code",
   "execution_count": 376,
   "metadata": {},
   "outputs": [
    {
     "name": "stdout",
     "output_type": "stream",
     "text": [
      "<class 'pandas.core.frame.DataFrame'>\n",
      "RangeIndex: 268 entries, 0 to 267\n",
      "Data columns (total 8 columns):\n",
      " #   Column  Non-Null Count  Dtype  \n",
      "---  ------  --------------  -----  \n",
      " 0   A       268 non-null    int64  \n",
      " 1   B       268 non-null    int64  \n",
      " 2   C       268 non-null    float64\n",
      " 3   D       268 non-null    float64\n",
      " 4   E       268 non-null    float64\n",
      " 5   F       268 non-null    float64\n",
      " 6   G       268 non-null    float64\n",
      " 7   H       268 non-null    int64  \n",
      "dtypes: float64(5), int64(3)\n",
      "memory usage: 16.8 KB\n"
     ]
    }
   ],
   "source": [
    "test.info()"
   ]
  },
  {
   "cell_type": "code",
   "execution_count": 293,
   "metadata": {},
   "outputs": [
    {
     "data": {
      "text/html": [
       "<div>\n",
       "<style scoped>\n",
       "    .dataframe tbody tr th:only-of-type {\n",
       "        vertical-align: middle;\n",
       "    }\n",
       "\n",
       "    .dataframe tbody tr th {\n",
       "        vertical-align: top;\n",
       "    }\n",
       "\n",
       "    .dataframe thead th {\n",
       "        text-align: right;\n",
       "    }\n",
       "</style>\n",
       "<table border=\"1\" class=\"dataframe\">\n",
       "  <thead>\n",
       "    <tr style=\"text-align: right;\">\n",
       "      <th></th>\n",
       "      <th>A</th>\n",
       "      <th>B</th>\n",
       "      <th>C</th>\n",
       "      <th>D</th>\n",
       "      <th>E</th>\n",
       "      <th>F</th>\n",
       "      <th>G</th>\n",
       "      <th>H</th>\n",
       "      <th>Target</th>\n",
       "    </tr>\n",
       "  </thead>\n",
       "  <tbody>\n",
       "    <tr>\n",
       "      <th>count</th>\n",
       "      <td>500.000000</td>\n",
       "      <td>500.000000</td>\n",
       "      <td>500.000000</td>\n",
       "      <td>360.000000</td>\n",
       "      <td>253.000000</td>\n",
       "      <td>492.000000</td>\n",
       "      <td>500.000000</td>\n",
       "      <td>500.000000</td>\n",
       "      <td>500.000000</td>\n",
       "    </tr>\n",
       "    <tr>\n",
       "      <th>mean</th>\n",
       "      <td>3.876000</td>\n",
       "      <td>121.470000</td>\n",
       "      <td>68.666000</td>\n",
       "      <td>26.308333</td>\n",
       "      <td>106.332016</td>\n",
       "      <td>29.932724</td>\n",
       "      <td>0.472286</td>\n",
       "      <td>33.270000</td>\n",
       "      <td>0.324000</td>\n",
       "    </tr>\n",
       "    <tr>\n",
       "      <th>std</th>\n",
       "      <td>3.394653</td>\n",
       "      <td>32.738735</td>\n",
       "      <td>20.288067</td>\n",
       "      <td>13.120056</td>\n",
       "      <td>122.448436</td>\n",
       "      <td>10.624439</td>\n",
       "      <td>0.341394</td>\n",
       "      <td>11.890663</td>\n",
       "      <td>0.468469</td>\n",
       "    </tr>\n",
       "    <tr>\n",
       "      <th>min</th>\n",
       "      <td>0.000000</td>\n",
       "      <td>0.000000</td>\n",
       "      <td>0.000000</td>\n",
       "      <td>1.000000</td>\n",
       "      <td>1.000000</td>\n",
       "      <td>2.100000</td>\n",
       "      <td>0.078000</td>\n",
       "      <td>21.000000</td>\n",
       "      <td>0.000000</td>\n",
       "    </tr>\n",
       "    <tr>\n",
       "      <th>25%</th>\n",
       "      <td>1.000000</td>\n",
       "      <td>99.000000</td>\n",
       "      <td>62.000000</td>\n",
       "      <td>18.000000</td>\n",
       "      <td>21.000000</td>\n",
       "      <td>25.375000</td>\n",
       "      <td>0.240000</td>\n",
       "      <td>24.000000</td>\n",
       "      <td>0.000000</td>\n",
       "    </tr>\n",
       "    <tr>\n",
       "      <th>50%</th>\n",
       "      <td>3.000000</td>\n",
       "      <td>116.000000</td>\n",
       "      <td>70.000000</td>\n",
       "      <td>27.000000</td>\n",
       "      <td>67.000000</td>\n",
       "      <td>32.000000</td>\n",
       "      <td>0.378000</td>\n",
       "      <td>29.000000</td>\n",
       "      <td>0.000000</td>\n",
       "    </tr>\n",
       "    <tr>\n",
       "      <th>75%</th>\n",
       "      <td>6.000000</td>\n",
       "      <td>143.000000</td>\n",
       "      <td>80.000000</td>\n",
       "      <td>35.000000</td>\n",
       "      <td>145.000000</td>\n",
       "      <td>36.025000</td>\n",
       "      <td>0.612250</td>\n",
       "      <td>41.000000</td>\n",
       "      <td>1.000000</td>\n",
       "    </tr>\n",
       "    <tr>\n",
       "      <th>max</th>\n",
       "      <td>17.000000</td>\n",
       "      <td>199.000000</td>\n",
       "      <td>122.000000</td>\n",
       "      <td>99.000000</td>\n",
       "      <td>846.000000</td>\n",
       "      <td>59.400000</td>\n",
       "      <td>2.420000</td>\n",
       "      <td>72.000000</td>\n",
       "      <td>1.000000</td>\n",
       "    </tr>\n",
       "  </tbody>\n",
       "</table>\n",
       "</div>"
      ],
      "text/plain": [
       "                A           B           C           D           E           F  \\\n",
       "count  500.000000  500.000000  500.000000  360.000000  253.000000  492.000000   \n",
       "mean     3.876000  121.470000   68.666000   26.308333  106.332016   29.932724   \n",
       "std      3.394653   32.738735   20.288067   13.120056  122.448436   10.624439   \n",
       "min      0.000000    0.000000    0.000000    1.000000    1.000000    2.100000   \n",
       "25%      1.000000   99.000000   62.000000   18.000000   21.000000   25.375000   \n",
       "50%      3.000000  116.000000   70.000000   27.000000   67.000000   32.000000   \n",
       "75%      6.000000  143.000000   80.000000   35.000000  145.000000   36.025000   \n",
       "max     17.000000  199.000000  122.000000   99.000000  846.000000   59.400000   \n",
       "\n",
       "                G           H      Target  \n",
       "count  500.000000  500.000000  500.000000  \n",
       "mean     0.472286   33.270000    0.324000  \n",
       "std      0.341394   11.890663    0.468469  \n",
       "min      0.078000   21.000000    0.000000  \n",
       "25%      0.240000   24.000000    0.000000  \n",
       "50%      0.378000   29.000000    0.000000  \n",
       "75%      0.612250   41.000000    1.000000  \n",
       "max      2.420000   72.000000    1.000000  "
      ]
     },
     "execution_count": 293,
     "metadata": {},
     "output_type": "execute_result"
    }
   ],
   "source": [
    "train.describe()"
   ]
  },
  {
   "cell_type": "code",
   "execution_count": 294,
   "metadata": {},
   "outputs": [
    {
     "data": {
      "text/html": [
       "<div>\n",
       "<style scoped>\n",
       "    .dataframe tbody tr th:only-of-type {\n",
       "        vertical-align: middle;\n",
       "    }\n",
       "\n",
       "    .dataframe tbody tr th {\n",
       "        vertical-align: top;\n",
       "    }\n",
       "\n",
       "    .dataframe thead th {\n",
       "        text-align: right;\n",
       "    }\n",
       "</style>\n",
       "<table border=\"1\" class=\"dataframe\">\n",
       "  <thead>\n",
       "    <tr style=\"text-align: right;\">\n",
       "      <th></th>\n",
       "      <th>A</th>\n",
       "      <th>B</th>\n",
       "      <th>C</th>\n",
       "      <th>D</th>\n",
       "      <th>E</th>\n",
       "      <th>F</th>\n",
       "      <th>G</th>\n",
       "      <th>H</th>\n",
       "    </tr>\n",
       "  </thead>\n",
       "  <tbody>\n",
       "    <tr>\n",
       "      <th>count</th>\n",
       "      <td>268.000000</td>\n",
       "      <td>268.000000</td>\n",
       "      <td>268.000000</td>\n",
       "      <td>181.000000</td>\n",
       "      <td>141.000000</td>\n",
       "      <td>265.000000</td>\n",
       "      <td>268.000000</td>\n",
       "      <td>268.000000</td>\n",
       "    </tr>\n",
       "    <tr>\n",
       "      <th>mean</th>\n",
       "      <td>3.787313</td>\n",
       "      <td>119.820896</td>\n",
       "      <td>69.925373</td>\n",
       "      <td>25.016575</td>\n",
       "      <td>104.453901</td>\n",
       "      <td>29.741132</td>\n",
       "      <td>0.471112</td>\n",
       "      <td>33.186567</td>\n",
       "    </tr>\n",
       "    <tr>\n",
       "      <th>std</th>\n",
       "      <td>3.327829</td>\n",
       "      <td>30.522872</td>\n",
       "      <td>17.491197</td>\n",
       "      <td>12.651515</td>\n",
       "      <td>106.517234</td>\n",
       "      <td>10.818601</td>\n",
       "      <td>0.312305</td>\n",
       "      <td>11.534782</td>\n",
       "    </tr>\n",
       "    <tr>\n",
       "      <th>min</th>\n",
       "      <td>0.000000</td>\n",
       "      <td>0.000000</td>\n",
       "      <td>0.000000</td>\n",
       "      <td>1.000000</td>\n",
       "      <td>1.000000</td>\n",
       "      <td>2.000000</td>\n",
       "      <td>0.084000</td>\n",
       "      <td>21.000000</td>\n",
       "    </tr>\n",
       "    <tr>\n",
       "      <th>25%</th>\n",
       "      <td>1.000000</td>\n",
       "      <td>100.000000</td>\n",
       "      <td>64.000000</td>\n",
       "      <td>16.000000</td>\n",
       "      <td>19.000000</td>\n",
       "      <td>25.500000</td>\n",
       "      <td>0.251250</td>\n",
       "      <td>24.000000</td>\n",
       "    </tr>\n",
       "    <tr>\n",
       "      <th>50%</th>\n",
       "      <td>3.000000</td>\n",
       "      <td>119.000000</td>\n",
       "      <td>72.000000</td>\n",
       "      <td>26.000000</td>\n",
       "      <td>72.000000</td>\n",
       "      <td>31.600000</td>\n",
       "      <td>0.361500</td>\n",
       "      <td>29.500000</td>\n",
       "    </tr>\n",
       "    <tr>\n",
       "      <th>75%</th>\n",
       "      <td>6.000000</td>\n",
       "      <td>137.250000</td>\n",
       "      <td>78.000000</td>\n",
       "      <td>35.000000</td>\n",
       "      <td>168.000000</td>\n",
       "      <td>36.100000</td>\n",
       "      <td>0.643500</td>\n",
       "      <td>39.250000</td>\n",
       "    </tr>\n",
       "    <tr>\n",
       "      <th>max</th>\n",
       "      <td>15.000000</td>\n",
       "      <td>196.000000</td>\n",
       "      <td>110.000000</td>\n",
       "      <td>52.000000</td>\n",
       "      <td>545.000000</td>\n",
       "      <td>67.100000</td>\n",
       "      <td>1.893000</td>\n",
       "      <td>81.000000</td>\n",
       "    </tr>\n",
       "  </tbody>\n",
       "</table>\n",
       "</div>"
      ],
      "text/plain": [
       "                A           B           C           D           E           F  \\\n",
       "count  268.000000  268.000000  268.000000  181.000000  141.000000  265.000000   \n",
       "mean     3.787313  119.820896   69.925373   25.016575  104.453901   29.741132   \n",
       "std      3.327829   30.522872   17.491197   12.651515  106.517234   10.818601   \n",
       "min      0.000000    0.000000    0.000000    1.000000    1.000000    2.000000   \n",
       "25%      1.000000  100.000000   64.000000   16.000000   19.000000   25.500000   \n",
       "50%      3.000000  119.000000   72.000000   26.000000   72.000000   31.600000   \n",
       "75%      6.000000  137.250000   78.000000   35.000000  168.000000   36.100000   \n",
       "max     15.000000  196.000000  110.000000   52.000000  545.000000   67.100000   \n",
       "\n",
       "                G           H  \n",
       "count  268.000000  268.000000  \n",
       "mean     0.471112   33.186567  \n",
       "std      0.312305   11.534782  \n",
       "min      0.084000   21.000000  \n",
       "25%      0.251250   24.000000  \n",
       "50%      0.361500   29.500000  \n",
       "75%      0.643500   39.250000  \n",
       "max      1.893000   81.000000  "
      ]
     },
     "execution_count": 294,
     "metadata": {},
     "output_type": "execute_result"
    }
   ],
   "source": [
    "test.describe()"
   ]
  },
  {
   "cell_type": "code",
   "execution_count": 295,
   "metadata": {},
   "outputs": [
    {
     "data": {
      "text/plain": [
       "array([[<matplotlib.axes._subplots.AxesSubplot object at 0x1D651250>,\n",
       "        <matplotlib.axes._subplots.AxesSubplot object at 0x1D6A3280>,\n",
       "        <matplotlib.axes._subplots.AxesSubplot object at 0x1D5F21F0>],\n",
       "       [<matplotlib.axes._subplots.AxesSubplot object at 0x1E7098B0>,\n",
       "        <matplotlib.axes._subplots.AxesSubplot object at 0x1D2F87A8>,\n",
       "        <matplotlib.axes._subplots.AxesSubplot object at 0x1E780670>],\n",
       "       [<matplotlib.axes._subplots.AxesSubplot object at 0x1E780A00>,\n",
       "        <matplotlib.axes._subplots.AxesSubplot object at 0x1E781A90>,\n",
       "        <matplotlib.axes._subplots.AxesSubplot object at 0x1E88B6D0>]],\n",
       "      dtype=object)"
      ]
     },
     "execution_count": 295,
     "metadata": {},
     "output_type": "execute_result"
    },
    {
     "data": {
      "image/png": "[encoded data removed]",
      "text/plain": [
       "<Figure size 864x864 with 9 Axes>"
      ]
     },
     "metadata": {
      "needs_background": "light"
     },
     "output_type": "display_data"
    }
   ],
   "source": [
    "# Plotting histograms\n",
    "histogram1 = train.hist(bins=10,figsize=(12,12))\n",
    "histogram1"
   ]
  },
  {
   "cell_type": "code",
   "execution_count": 296,
   "metadata": {},
   "outputs": [
    {
     "data": {
      "text/plain": [
       "array([[<matplotlib.axes._subplots.AxesSubplot object at 0x1E8690E8>,\n",
       "        <matplotlib.axes._subplots.AxesSubplot object at 0x1EC6A400>,\n",
       "        <matplotlib.axes._subplots.AxesSubplot object at 0x1EC9DB68>],\n",
       "       [<matplotlib.axes._subplots.AxesSubplot object at 0x1ECB5E08>,\n",
       "        <matplotlib.axes._subplots.AxesSubplot object at 0x1ECDC178>,\n",
       "        <matplotlib.axes._subplots.AxesSubplot object at 0x1ECF3490>],\n",
       "       [<matplotlib.axes._subplots.AxesSubplot object at 0x1EAEAF40>,\n",
       "        <matplotlib.axes._subplots.AxesSubplot object at 0x1EAC13A0>,\n",
       "        <matplotlib.axes._subplots.AxesSubplot object at 0x1EB7CF28>]],\n",
       "      dtype=object)"
      ]
     },
     "execution_count": 296,
     "metadata": {},
     "output_type": "execute_result"
    },
    {
     "data": {
      "image/png": "[encoded data removed]",
      "text/plain": [
       "<Figure size 864x864 with 9 Axes>"
      ]
     },
     "metadata": {
      "needs_background": "light"
     },
     "output_type": "display_data"
    }
   ],
   "source": [
    "# Plotting histograms\n",
    "histogram2 = test.hist(bins=10,figsize=(12,12))\n",
    "histogram2"
   ]
  },
  {
   "cell_type": "code",
   "execution_count": 297,
   "metadata": {},
   "outputs": [
    {
     "data": {
      "text/html": [
       "<style  type=\"text/css\" >\n",
       "    #T_051ab6e2_b8d0_11ea_99ad_040e3c9252bfrow0_col0 {\n",
       "            background-color:  #b40426;\n",
       "            color:  #f1f1f1;\n",
       "        }    #T_051ab6e2_b8d0_11ea_99ad_040e3c9252bfrow0_col1 {\n",
       "            background-color:  #4f69d9;\n",
       "            color:  #000000;\n",
       "        }    #T_051ab6e2_b8d0_11ea_99ad_040e3c9252bfrow0_col2 {\n",
       "            background-color:  #80a3fa;\n",
       "            color:  #000000;\n",
       "        }    #T_051ab6e2_b8d0_11ea_99ad_040e3c9252bfrow0_col3 {\n",
       "            background-color:  #3b4cc0;\n",
       "            color:  #f1f1f1;\n",
       "        }    #T_051ab6e2_b8d0_11ea_99ad_040e3c9252bfrow0_col4 {\n",
       "            background-color:  #5977e3;\n",
       "            color:  #000000;\n",
       "        }    #T_051ab6e2_b8d0_11ea_99ad_040e3c9252bfrow0_col5 {\n",
       "            background-color:  #4f69d9;\n",
       "            color:  #000000;\n",
       "        }    #T_051ab6e2_b8d0_11ea_99ad_040e3c9252bfrow0_col6 {\n",
       "            background-color:  #3b4cc0;\n",
       "            color:  #f1f1f1;\n",
       "        }    #T_051ab6e2_b8d0_11ea_99ad_040e3c9252bfrow0_col7 {\n",
       "            background-color:  #dfdbd9;\n",
       "            color:  #000000;\n",
       "        }    #T_051ab6e2_b8d0_11ea_99ad_040e3c9252bfrow0_col8 {\n",
       "            background-color:  #6485ec;\n",
       "            color:  #000000;\n",
       "        }    #T_051ab6e2_b8d0_11ea_99ad_040e3c9252bfrow1_col0 {\n",
       "            background-color:  #7597f6;\n",
       "            color:  #000000;\n",
       "        }    #T_051ab6e2_b8d0_11ea_99ad_040e3c9252bfrow1_col1 {\n",
       "            background-color:  #b40426;\n",
       "            color:  #f1f1f1;\n",
       "        }    #T_051ab6e2_b8d0_11ea_99ad_040e3c9252bfrow1_col2 {\n",
       "            background-color:  #8badfd;\n",
       "            color:  #000000;\n",
       "        }    #T_051ab6e2_b8d0_11ea_99ad_040e3c9252bfrow1_col3 {\n",
       "            background-color:  #90b2fe;\n",
       "            color:  #000000;\n",
       "        }    #T_051ab6e2_b8d0_11ea_99ad_040e3c9252bfrow1_col4 {\n",
       "            background-color:  #dadce0;\n",
       "            color:  #000000;\n",
       "        }    #T_051ab6e2_b8d0_11ea_99ad_040e3c9252bfrow1_col5 {\n",
       "            background-color:  #6c8ff1;\n",
       "            color:  #000000;\n",
       "        }    #T_051ab6e2_b8d0_11ea_99ad_040e3c9252bfrow1_col6 {\n",
       "            background-color:  #779af7;\n",
       "            color:  #000000;\n",
       "        }    #T_051ab6e2_b8d0_11ea_99ad_040e3c9252bfrow1_col7 {\n",
       "            background-color:  #93b5fe;\n",
       "            color:  #000000;\n",
       "        }    #T_051ab6e2_b8d0_11ea_99ad_040e3c9252bfrow1_col8 {\n",
       "            background-color:  #cbd8ee;\n",
       "            color:  #000000;\n",
       "        }    #T_051ab6e2_b8d0_11ea_99ad_040e3c9252bfrow2_col0 {\n",
       "            background-color:  #6e90f2;\n",
       "            color:  #000000;\n",
       "        }    #T_051ab6e2_b8d0_11ea_99ad_040e3c9252bfrow2_col1 {\n",
       "            background-color:  #5470de;\n",
       "            color:  #000000;\n",
       "        }    #T_051ab6e2_b8d0_11ea_99ad_040e3c9252bfrow2_col2 {\n",
       "            background-color:  #b40426;\n",
       "            color:  #f1f1f1;\n",
       "        }    #T_051ab6e2_b8d0_11ea_99ad_040e3c9252bfrow2_col3 {\n",
       "            background-color:  #6f92f3;\n",
       "            color:  #000000;\n",
       "        }    #T_051ab6e2_b8d0_11ea_99ad_040e3c9252bfrow2_col4 {\n",
       "            background-color:  #3b4cc0;\n",
       "            color:  #f1f1f1;\n",
       "        }    #T_051ab6e2_b8d0_11ea_99ad_040e3c9252bfrow2_col5 {\n",
       "            background-color:  #7396f5;\n",
       "            color:  #000000;\n",
       "        }    #T_051ab6e2_b8d0_11ea_99ad_040e3c9252bfrow2_col6 {\n",
       "            background-color:  #4f69d9;\n",
       "            color:  #000000;\n",
       "        }    #T_051ab6e2_b8d0_11ea_99ad_040e3c9252bfrow2_col7 {\n",
       "            background-color:  #7ea1fa;\n",
       "            color:  #000000;\n",
       "        }    #T_051ab6e2_b8d0_11ea_99ad_040e3c9252bfrow2_col8 {\n",
       "            background-color:  #3b4cc0;\n",
       "            color:  #f1f1f1;\n",
       "        }    #T_051ab6e2_b8d0_11ea_99ad_040e3c9252bfrow3_col0 {\n",
       "            background-color:  #4b64d5;\n",
       "            color:  #f1f1f1;\n",
       "        }    #T_051ab6e2_b8d0_11ea_99ad_040e3c9252bfrow3_col1 {\n",
       "            background-color:  #7da0f9;\n",
       "            color:  #000000;\n",
       "        }    #T_051ab6e2_b8d0_11ea_99ad_040e3c9252bfrow3_col2 {\n",
       "            background-color:  #8fb1fe;\n",
       "            color:  #000000;\n",
       "        }    #T_051ab6e2_b8d0_11ea_99ad_040e3c9252bfrow3_col3 {\n",
       "            background-color:  #b40426;\n",
       "            color:  #f1f1f1;\n",
       "        }    #T_051ab6e2_b8d0_11ea_99ad_040e3c9252bfrow3_col4 {\n",
       "            background-color:  #85a8fc;\n",
       "            color:  #000000;\n",
       "        }    #T_051ab6e2_b8d0_11ea_99ad_040e3c9252bfrow3_col5 {\n",
       "            background-color:  #96b7ff;\n",
       "            color:  #000000;\n",
       "        }    #T_051ab6e2_b8d0_11ea_99ad_040e3c9252bfrow3_col6 {\n",
       "            background-color:  #6c8ff1;\n",
       "            color:  #000000;\n",
       "        }    #T_051ab6e2_b8d0_11ea_99ad_040e3c9252bfrow3_col7 {\n",
       "            background-color:  #5d7ce6;\n",
       "            color:  #000000;\n",
       "        }    #T_051ab6e2_b8d0_11ea_99ad_040e3c9252bfrow3_col8 {\n",
       "            background-color:  #84a7fc;\n",
       "            color:  #000000;\n",
       "        }    #T_051ab6e2_b8d0_11ea_99ad_040e3c9252bfrow4_col0 {\n",
       "            background-color:  #485fd1;\n",
       "            color:  #f1f1f1;\n",
       "        }    #T_051ab6e2_b8d0_11ea_99ad_040e3c9252bfrow4_col1 {\n",
       "            background-color:  #bbd1f8;\n",
       "            color:  #000000;\n",
       "        }    #T_051ab6e2_b8d0_11ea_99ad_040e3c9252bfrow4_col2 {\n",
       "            background-color:  #3b4cc0;\n",
       "            color:  #f1f1f1;\n",
       "        }    #T_051ab6e2_b8d0_11ea_99ad_040e3c9252bfrow4_col3 {\n",
       "            background-color:  #6384eb;\n",
       "            color:  #000000;\n",
       "        }    #T_051ab6e2_b8d0_11ea_99ad_040e3c9252bfrow4_col4 {\n",
       "            background-color:  #b40426;\n",
       "            color:  #f1f1f1;\n",
       "        }    #T_051ab6e2_b8d0_11ea_99ad_040e3c9252bfrow4_col5 {\n",
       "            background-color:  #3b4cc0;\n",
       "            color:  #f1f1f1;\n",
       "        }    #T_051ab6e2_b8d0_11ea_99ad_040e3c9252bfrow4_col6 {\n",
       "            background-color:  #88abfd;\n",
       "            color:  #000000;\n",
       "        }    #T_051ab6e2_b8d0_11ea_99ad_040e3c9252bfrow4_col7 {\n",
       "            background-color:  #6b8df0;\n",
       "            color:  #000000;\n",
       "        }    #T_051ab6e2_b8d0_11ea_99ad_040e3c9252bfrow4_col8 {\n",
       "            background-color:  #779af7;\n",
       "            color:  #000000;\n",
       "        }    #T_051ab6e2_b8d0_11ea_99ad_040e3c9252bfrow5_col0 {\n",
       "            background-color:  #4358cb;\n",
       "            color:  #f1f1f1;\n",
       "        }    #T_051ab6e2_b8d0_11ea_99ad_040e3c9252bfrow5_col1 {\n",
       "            background-color:  #3b4cc0;\n",
       "            color:  #f1f1f1;\n",
       "        }    #T_051ab6e2_b8d0_11ea_99ad_040e3c9252bfrow5_col2 {\n",
       "            background-color:  #799cf8;\n",
       "            color:  #000000;\n",
       "        }    #T_051ab6e2_b8d0_11ea_99ad_040e3c9252bfrow5_col3 {\n",
       "            background-color:  #7b9ff9;\n",
       "            color:  #000000;\n",
       "        }    #T_051ab6e2_b8d0_11ea_99ad_040e3c9252bfrow5_col4 {\n",
       "            background-color:  #4055c8;\n",
       "            color:  #f1f1f1;\n",
       "        }    #T_051ab6e2_b8d0_11ea_99ad_040e3c9252bfrow5_col5 {\n",
       "            background-color:  #b40426;\n",
       "            color:  #f1f1f1;\n",
       "        }    #T_051ab6e2_b8d0_11ea_99ad_040e3c9252bfrow5_col6 {\n",
       "            background-color:  #3c4ec2;\n",
       "            color:  #f1f1f1;\n",
       "        }    #T_051ab6e2_b8d0_11ea_99ad_040e3c9252bfrow5_col7 {\n",
       "            background-color:  #3b4cc0;\n",
       "            color:  #f1f1f1;\n",
       "        }    #T_051ab6e2_b8d0_11ea_99ad_040e3c9252bfrow5_col8 {\n",
       "            background-color:  #6384eb;\n",
       "            color:  #000000;\n",
       "        }    #T_051ab6e2_b8d0_11ea_99ad_040e3c9252bfrow6_col0 {\n",
       "            background-color:  #3b4cc0;\n",
       "            color:  #f1f1f1;\n",
       "        }    #T_051ab6e2_b8d0_11ea_99ad_040e3c9252bfrow6_col1 {\n",
       "            background-color:  #536edd;\n",
       "            color:  #000000;\n",
       "        }    #T_051ab6e2_b8d0_11ea_99ad_040e3c9252bfrow6_col2 {\n",
       "            background-color:  #6282ea;\n",
       "            color:  #000000;\n",
       "        }    #T_051ab6e2_b8d0_11ea_99ad_040e3c9252bfrow6_col3 {\n",
       "            background-color:  #5d7ce6;\n",
       "            color:  #000000;\n",
       "        }    #T_051ab6e2_b8d0_11ea_99ad_040e3c9252bfrow6_col4 {\n",
       "            background-color:  #98b9ff;\n",
       "            color:  #000000;\n",
       "        }    #T_051ab6e2_b8d0_11ea_99ad_040e3c9252bfrow6_col5 {\n",
       "            background-color:  #4961d2;\n",
       "            color:  #f1f1f1;\n",
       "        }    #T_051ab6e2_b8d0_11ea_99ad_040e3c9252bfrow6_col6 {\n",
       "            background-color:  #b40426;\n",
       "            color:  #f1f1f1;\n",
       "        }    #T_051ab6e2_b8d0_11ea_99ad_040e3c9252bfrow6_col7 {\n",
       "            background-color:  #4257c9;\n",
       "            color:  #f1f1f1;\n",
       "        }    #T_051ab6e2_b8d0_11ea_99ad_040e3c9252bfrow6_col8 {\n",
       "            background-color:  #5b7ae5;\n",
       "            color:  #000000;\n",
       "        }    #T_051ab6e2_b8d0_11ea_99ad_040e3c9252bfrow7_col0 {\n",
       "            background-color:  #e7d7ce;\n",
       "            color:  #000000;\n",
       "        }    #T_051ab6e2_b8d0_11ea_99ad_040e3c9252bfrow7_col1 {\n",
       "            background-color:  #80a3fa;\n",
       "            color:  #000000;\n",
       "        }    #T_051ab6e2_b8d0_11ea_99ad_040e3c9252bfrow7_col2 {\n",
       "            background-color:  #9ebeff;\n",
       "            color:  #000000;\n",
       "        }    #T_051ab6e2_b8d0_11ea_99ad_040e3c9252bfrow7_col3 {\n",
       "            background-color:  #5e7de7;\n",
       "            color:  #000000;\n",
       "        }    #T_051ab6e2_b8d0_11ea_99ad_040e3c9252bfrow7_col4 {\n",
       "            background-color:  #8db0fe;\n",
       "            color:  #000000;\n",
       "        }    #T_051ab6e2_b8d0_11ea_99ad_040e3c9252bfrow7_col5 {\n",
       "            background-color:  #5875e1;\n",
       "            color:  #000000;\n",
       "        }    #T_051ab6e2_b8d0_11ea_99ad_040e3c9252bfrow7_col6 {\n",
       "            background-color:  #5470de;\n",
       "            color:  #000000;\n",
       "        }    #T_051ab6e2_b8d0_11ea_99ad_040e3c9252bfrow7_col7 {\n",
       "            background-color:  #b40426;\n",
       "            color:  #f1f1f1;\n",
       "        }    #T_051ab6e2_b8d0_11ea_99ad_040e3c9252bfrow7_col8 {\n",
       "            background-color:  #688aef;\n",
       "            color:  #000000;\n",
       "        }    #T_051ab6e2_b8d0_11ea_99ad_040e3c9252bfrow8_col0 {\n",
       "            background-color:  #85a8fc;\n",
       "            color:  #000000;\n",
       "        }    #T_051ab6e2_b8d0_11ea_99ad_040e3c9252bfrow8_col1 {\n",
       "            background-color:  #c9d7f0;\n",
       "            color:  #000000;\n",
       "        }    #T_051ab6e2_b8d0_11ea_99ad_040e3c9252bfrow8_col2 {\n",
       "            background-color:  #6e90f2;\n",
       "            color:  #000000;\n",
       "        }    #T_051ab6e2_b8d0_11ea_99ad_040e3c9252bfrow8_col3 {\n",
       "            background-color:  #94b6ff;\n",
       "            color:  #000000;\n",
       "        }    #T_051ab6e2_b8d0_11ea_99ad_040e3c9252bfrow8_col4 {\n",
       "            background-color:  #a6c4fe;\n",
       "            color:  #000000;\n",
       "        }    #T_051ab6e2_b8d0_11ea_99ad_040e3c9252bfrow8_col5 {\n",
       "            background-color:  #90b2fe;\n",
       "            color:  #000000;\n",
       "        }    #T_051ab6e2_b8d0_11ea_99ad_040e3c9252bfrow8_col6 {\n",
       "            background-color:  #7da0f9;\n",
       "            color:  #000000;\n",
       "        }    #T_051ab6e2_b8d0_11ea_99ad_040e3c9252bfrow8_col7 {\n",
       "            background-color:  #799cf8;\n",
       "            color:  #000000;\n",
       "        }    #T_051ab6e2_b8d0_11ea_99ad_040e3c9252bfrow8_col8 {\n",
       "            background-color:  #b40426;\n",
       "            color:  #f1f1f1;\n",
       "        }</style><table id=\"T_051ab6e2_b8d0_11ea_99ad_040e3c9252bf\" ><thead>    <tr>        <th class=\"blank level0\" ></th>        <th class=\"col_heading level0 col0\" >A</th>        <th class=\"col_heading level0 col1\" >B</th>        <th class=\"col_heading level0 col2\" >C</th>        <th class=\"col_heading level0 col3\" >D</th>        <th class=\"col_heading level0 col4\" >E</th>        <th class=\"col_heading level0 col5\" >F</th>        <th class=\"col_heading level0 col6\" >G</th>        <th class=\"col_heading level0 col7\" >H</th>        <th class=\"col_heading level0 col8\" >Target</th>    </tr></thead><tbody>\n",
       "                <tr>\n",
       "                        <th id=\"T_051ab6e2_b8d0_11ea_99ad_040e3c9252bflevel0_row0\" class=\"row_heading level0 row0\" >A</th>\n",
       "                        <td id=\"T_051ab6e2_b8d0_11ea_99ad_040e3c9252bfrow0_col0\" class=\"data row0 col0\" >1.000000</td>\n",
       "                        <td id=\"T_051ab6e2_b8d0_11ea_99ad_040e3c9252bfrow0_col1\" class=\"data row0 col1\" >0.161496</td>\n",
       "                        <td id=\"T_051ab6e2_b8d0_11ea_99ad_040e3c9252bfrow0_col2\" class=\"data row0 col2\" >0.142327</td>\n",
       "                        <td id=\"T_051ab6e2_b8d0_11ea_99ad_040e3c9252bfrow0_col3\" class=\"data row0 col3\" >0.032310</td>\n",
       "                        <td id=\"T_051ab6e2_b8d0_11ea_99ad_040e3c9252bfrow0_col4\" class=\"data row0 col4\" >0.021011</td>\n",
       "                        <td id=\"T_051ab6e2_b8d0_11ea_99ad_040e3c9252bfrow0_col5\" class=\"data row0 col5\" >0.004478</td>\n",
       "                        <td id=\"T_051ab6e2_b8d0_11ea_99ad_040e3c9252bfrow0_col6\" class=\"data row0 col6\" >-0.023769</td>\n",
       "                        <td id=\"T_051ab6e2_b8d0_11ea_99ad_040e3c9252bfrow0_col7\" class=\"data row0 col7\" >0.529478</td>\n",
       "                        <td id=\"T_051ab6e2_b8d0_11ea_99ad_040e3c9252bfrow0_col8\" class=\"data row0 col8\" >0.211817</td>\n",
       "            </tr>\n",
       "            <tr>\n",
       "                        <th id=\"T_051ab6e2_b8d0_11ea_99ad_040e3c9252bflevel0_row1\" class=\"row_heading level0 row1\" >B</th>\n",
       "                        <td id=\"T_051ab6e2_b8d0_11ea_99ad_040e3c9252bfrow1_col0\" class=\"data row1 col0\" >0.161496</td>\n",
       "                        <td id=\"T_051ab6e2_b8d0_11ea_99ad_040e3c9252bfrow1_col1\" class=\"data row1 col1\" >1.000000</td>\n",
       "                        <td id=\"T_051ab6e2_b8d0_11ea_99ad_040e3c9252bfrow1_col2\" class=\"data row1 col2\" >0.174969</td>\n",
       "                        <td id=\"T_051ab6e2_b8d0_11ea_99ad_040e3c9252bfrow1_col3\" class=\"data row1 col3\" >0.284418</td>\n",
       "                        <td id=\"T_051ab6e2_b8d0_11ea_99ad_040e3c9252bfrow1_col4\" class=\"data row1 col4\" >0.446711</td>\n",
       "                        <td id=\"T_051ab6e2_b8d0_11ea_99ad_040e3c9252bfrow1_col5\" class=\"data row1 col5\" >0.100974</td>\n",
       "                        <td id=\"T_051ab6e2_b8d0_11ea_99ad_040e3c9252bfrow1_col6\" class=\"data row1 col6\" >0.171320</td>\n",
       "                        <td id=\"T_051ab6e2_b8d0_11ea_99ad_040e3c9252bfrow1_col7\" class=\"data row1 col7\" >0.293609</td>\n",
       "                        <td id=\"T_051ab6e2_b8d0_11ea_99ad_040e3c9252bfrow1_col8\" class=\"data row1 col8\" >0.486576</td>\n",
       "            </tr>\n",
       "            <tr>\n",
       "                        <th id=\"T_051ab6e2_b8d0_11ea_99ad_040e3c9252bflevel0_row2\" class=\"row_heading level0 row2\" >C</th>\n",
       "                        <td id=\"T_051ab6e2_b8d0_11ea_99ad_040e3c9252bfrow2_col0\" class=\"data row2 col0\" >0.142327</td>\n",
       "                        <td id=\"T_051ab6e2_b8d0_11ea_99ad_040e3c9252bfrow2_col1\" class=\"data row2 col1\" >0.174969</td>\n",
       "                        <td id=\"T_051ab6e2_b8d0_11ea_99ad_040e3c9252bfrow2_col2\" class=\"data row2 col2\" >1.000000</td>\n",
       "                        <td id=\"T_051ab6e2_b8d0_11ea_99ad_040e3c9252bfrow2_col3\" class=\"data row2 col3\" >0.191096</td>\n",
       "                        <td id=\"T_051ab6e2_b8d0_11ea_99ad_040e3c9252bfrow2_col4\" class=\"data row2 col4\" >-0.089073</td>\n",
       "                        <td id=\"T_051ab6e2_b8d0_11ea_99ad_040e3c9252bfrow2_col5\" class=\"data row2 col5\" >0.123435</td>\n",
       "                        <td id=\"T_051ab6e2_b8d0_11ea_99ad_040e3c9252bfrow2_col6\" class=\"data row2 col6\" >0.047847</td>\n",
       "                        <td id=\"T_051ab6e2_b8d0_11ea_99ad_040e3c9252bfrow2_col7\" class=\"data row2 col7\" >0.236763</td>\n",
       "                        <td id=\"T_051ab6e2_b8d0_11ea_99ad_040e3c9252bfrow2_col8\" class=\"data row2 col8\" >0.087737</td>\n",
       "            </tr>\n",
       "            <tr>\n",
       "                        <th id=\"T_051ab6e2_b8d0_11ea_99ad_040e3c9252bflevel0_row3\" class=\"row_heading level0 row3\" >D</th>\n",
       "                        <td id=\"T_051ab6e2_b8d0_11ea_99ad_040e3c9252bfrow3_col0\" class=\"data row3 col0\" >0.032310</td>\n",
       "                        <td id=\"T_051ab6e2_b8d0_11ea_99ad_040e3c9252bfrow3_col1\" class=\"data row3 col1\" >0.284418</td>\n",
       "                        <td id=\"T_051ab6e2_b8d0_11ea_99ad_040e3c9252bfrow3_col2\" class=\"data row3 col2\" >0.191096</td>\n",
       "                        <td id=\"T_051ab6e2_b8d0_11ea_99ad_040e3c9252bfrow3_col3\" class=\"data row3 col3\" >1.000000</td>\n",
       "                        <td id=\"T_051ab6e2_b8d0_11ea_99ad_040e3c9252bfrow3_col4\" class=\"data row3 col4\" >0.160339</td>\n",
       "                        <td id=\"T_051ab6e2_b8d0_11ea_99ad_040e3c9252bfrow3_col5\" class=\"data row3 col5\" >0.228624</td>\n",
       "                        <td id=\"T_051ab6e2_b8d0_11ea_99ad_040e3c9252bfrow3_col6\" class=\"data row3 col6\" >0.139197</td>\n",
       "                        <td id=\"T_051ab6e2_b8d0_11ea_99ad_040e3c9252bfrow3_col7\" class=\"data row3 col7\" >0.143920</td>\n",
       "                        <td id=\"T_051ab6e2_b8d0_11ea_99ad_040e3c9252bfrow3_col8\" class=\"data row3 col8\" >0.293449</td>\n",
       "            </tr>\n",
       "            <tr>\n",
       "                        <th id=\"T_051ab6e2_b8d0_11ea_99ad_040e3c9252bflevel0_row4\" class=\"row_heading level0 row4\" >E</th>\n",
       "                        <td id=\"T_051ab6e2_b8d0_11ea_99ad_040e3c9252bfrow4_col0\" class=\"data row4 col0\" >0.021011</td>\n",
       "                        <td id=\"T_051ab6e2_b8d0_11ea_99ad_040e3c9252bfrow4_col1\" class=\"data row4 col1\" >0.446711</td>\n",
       "                        <td id=\"T_051ab6e2_b8d0_11ea_99ad_040e3c9252bfrow4_col2\" class=\"data row4 col2\" >-0.089073</td>\n",
       "                        <td id=\"T_051ab6e2_b8d0_11ea_99ad_040e3c9252bfrow4_col3\" class=\"data row4 col3\" >0.160339</td>\n",
       "                        <td id=\"T_051ab6e2_b8d0_11ea_99ad_040e3c9252bfrow4_col4\" class=\"data row4 col4\" >1.000000</td>\n",
       "                        <td id=\"T_051ab6e2_b8d0_11ea_99ad_040e3c9252bfrow4_col5\" class=\"data row4 col5\" >-0.066960</td>\n",
       "                        <td id=\"T_051ab6e2_b8d0_11ea_99ad_040e3c9252bfrow4_col6\" class=\"data row4 col6\" >0.218481</td>\n",
       "                        <td id=\"T_051ab6e2_b8d0_11ea_99ad_040e3c9252bfrow4_col7\" class=\"data row4 col7\" >0.185941</td>\n",
       "                        <td id=\"T_051ab6e2_b8d0_11ea_99ad_040e3c9252bfrow4_col8\" class=\"data row4 col8\" >0.260938</td>\n",
       "            </tr>\n",
       "            <tr>\n",
       "                        <th id=\"T_051ab6e2_b8d0_11ea_99ad_040e3c9252bflevel0_row5\" class=\"row_heading level0 row5\" >F</th>\n",
       "                        <td id=\"T_051ab6e2_b8d0_11ea_99ad_040e3c9252bfrow5_col0\" class=\"data row5 col0\" >0.004478</td>\n",
       "                        <td id=\"T_051ab6e2_b8d0_11ea_99ad_040e3c9252bfrow5_col1\" class=\"data row5 col1\" >0.100974</td>\n",
       "                        <td id=\"T_051ab6e2_b8d0_11ea_99ad_040e3c9252bfrow5_col2\" class=\"data row5 col2\" >0.123435</td>\n",
       "                        <td id=\"T_051ab6e2_b8d0_11ea_99ad_040e3c9252bfrow5_col3\" class=\"data row5 col3\" >0.228624</td>\n",
       "                        <td id=\"T_051ab6e2_b8d0_11ea_99ad_040e3c9252bfrow5_col4\" class=\"data row5 col4\" >-0.066960</td>\n",
       "                        <td id=\"T_051ab6e2_b8d0_11ea_99ad_040e3c9252bfrow5_col5\" class=\"data row5 col5\" >1.000000</td>\n",
       "                        <td id=\"T_051ab6e2_b8d0_11ea_99ad_040e3c9252bfrow5_col6\" class=\"data row5 col6\" >-0.016863</td>\n",
       "                        <td id=\"T_051ab6e2_b8d0_11ea_99ad_040e3c9252bfrow5_col7\" class=\"data row5 col7\" >0.036669</td>\n",
       "                        <td id=\"T_051ab6e2_b8d0_11ea_99ad_040e3c9252bfrow5_col8\" class=\"data row5 col8\" >0.208839</td>\n",
       "            </tr>\n",
       "            <tr>\n",
       "                        <th id=\"T_051ab6e2_b8d0_11ea_99ad_040e3c9252bflevel0_row6\" class=\"row_heading level0 row6\" >G</th>\n",
       "                        <td id=\"T_051ab6e2_b8d0_11ea_99ad_040e3c9252bfrow6_col0\" class=\"data row6 col0\" >-0.023769</td>\n",
       "                        <td id=\"T_051ab6e2_b8d0_11ea_99ad_040e3c9252bfrow6_col1\" class=\"data row6 col1\" >0.171320</td>\n",
       "                        <td id=\"T_051ab6e2_b8d0_11ea_99ad_040e3c9252bfrow6_col2\" class=\"data row6 col2\" >0.047847</td>\n",
       "                        <td id=\"T_051ab6e2_b8d0_11ea_99ad_040e3c9252bfrow6_col3\" class=\"data row6 col3\" >0.139197</td>\n",
       "                        <td id=\"T_051ab6e2_b8d0_11ea_99ad_040e3c9252bfrow6_col4\" class=\"data row6 col4\" >0.218481</td>\n",
       "                        <td id=\"T_051ab6e2_b8d0_11ea_99ad_040e3c9252bfrow6_col5\" class=\"data row6 col5\" >-0.016863</td>\n",
       "                        <td id=\"T_051ab6e2_b8d0_11ea_99ad_040e3c9252bfrow6_col6\" class=\"data row6 col6\" >1.000000</td>\n",
       "                        <td id=\"T_051ab6e2_b8d0_11ea_99ad_040e3c9252bfrow6_col7\" class=\"data row6 col7\" >0.061109</td>\n",
       "                        <td id=\"T_051ab6e2_b8d0_11ea_99ad_040e3c9252bfrow6_col8\" class=\"data row6 col8\" >0.186172</td>\n",
       "            </tr>\n",
       "            <tr>\n",
       "                        <th id=\"T_051ab6e2_b8d0_11ea_99ad_040e3c9252bflevel0_row7\" class=\"row_heading level0 row7\" >H</th>\n",
       "                        <td id=\"T_051ab6e2_b8d0_11ea_99ad_040e3c9252bfrow7_col0\" class=\"data row7 col0\" >0.529478</td>\n",
       "                        <td id=\"T_051ab6e2_b8d0_11ea_99ad_040e3c9252bfrow7_col1\" class=\"data row7 col1\" >0.293609</td>\n",
       "                        <td id=\"T_051ab6e2_b8d0_11ea_99ad_040e3c9252bfrow7_col2\" class=\"data row7 col2\" >0.236763</td>\n",
       "                        <td id=\"T_051ab6e2_b8d0_11ea_99ad_040e3c9252bfrow7_col3\" class=\"data row7 col3\" >0.143920</td>\n",
       "                        <td id=\"T_051ab6e2_b8d0_11ea_99ad_040e3c9252bfrow7_col4\" class=\"data row7 col4\" >0.185941</td>\n",
       "                        <td id=\"T_051ab6e2_b8d0_11ea_99ad_040e3c9252bfrow7_col5\" class=\"data row7 col5\" >0.036669</td>\n",
       "                        <td id=\"T_051ab6e2_b8d0_11ea_99ad_040e3c9252bfrow7_col6\" class=\"data row7 col6\" >0.061109</td>\n",
       "                        <td id=\"T_051ab6e2_b8d0_11ea_99ad_040e3c9252bfrow7_col7\" class=\"data row7 col7\" >1.000000</td>\n",
       "                        <td id=\"T_051ab6e2_b8d0_11ea_99ad_040e3c9252bfrow7_col8\" class=\"data row7 col8\" >0.222425</td>\n",
       "            </tr>\n",
       "            <tr>\n",
       "                        <th id=\"T_051ab6e2_b8d0_11ea_99ad_040e3c9252bflevel0_row8\" class=\"row_heading level0 row8\" >Target</th>\n",
       "                        <td id=\"T_051ab6e2_b8d0_11ea_99ad_040e3c9252bfrow8_col0\" class=\"data row8 col0\" >0.211817</td>\n",
       "                        <td id=\"T_051ab6e2_b8d0_11ea_99ad_040e3c9252bfrow8_col1\" class=\"data row8 col1\" >0.486576</td>\n",
       "                        <td id=\"T_051ab6e2_b8d0_11ea_99ad_040e3c9252bfrow8_col2\" class=\"data row8 col2\" >0.087737</td>\n",
       "                        <td id=\"T_051ab6e2_b8d0_11ea_99ad_040e3c9252bfrow8_col3\" class=\"data row8 col3\" >0.293449</td>\n",
       "                        <td id=\"T_051ab6e2_b8d0_11ea_99ad_040e3c9252bfrow8_col4\" class=\"data row8 col4\" >0.260938</td>\n",
       "                        <td id=\"T_051ab6e2_b8d0_11ea_99ad_040e3c9252bfrow8_col5\" class=\"data row8 col5\" >0.208839</td>\n",
       "                        <td id=\"T_051ab6e2_b8d0_11ea_99ad_040e3c9252bfrow8_col6\" class=\"data row8 col6\" >0.186172</td>\n",
       "                        <td id=\"T_051ab6e2_b8d0_11ea_99ad_040e3c9252bfrow8_col7\" class=\"data row8 col7\" >0.222425</td>\n",
       "                        <td id=\"T_051ab6e2_b8d0_11ea_99ad_040e3c9252bfrow8_col8\" class=\"data row8 col8\" >1.000000</td>\n",
       "            </tr>\n",
       "    </tbody></table>"
      ],
      "text/plain": [
       "<pandas.io.formats.style.Styler at 0x1e6d8be0>"
      ]
     },
     "execution_count": 297,
     "metadata": {},
     "output_type": "execute_result"
    }
   ],
   "source": [
    "# Plotting a correlation matrix\n",
    "corr=train.corr()\n",
    "corr.style.background_gradient(cmap='coolwarm')"
   ]
  },
  {
   "cell_type": "markdown",
   "metadata": {},
   "source": [
    "#### Checking for null values in train and test dataset"
   ]
  },
  {
   "cell_type": "code",
   "execution_count": 298,
   "metadata": {},
   "outputs": [
    {
     "data": {
      "text/plain": [
       "A         False\n",
       "B         False\n",
       "C         False\n",
       "D          True\n",
       "E          True\n",
       "F          True\n",
       "G         False\n",
       "H         False\n",
       "Target    False\n",
       "dtype: bool"
      ]
     },
     "execution_count": 298,
     "metadata": {},
     "output_type": "execute_result"
    }
   ],
   "source": [
    "# Checking for null values in train dataset\n",
    "train.isna().any()"
   ]
  },
  {
   "cell_type": "code",
   "execution_count": 299,
   "metadata": {},
   "outputs": [
    {
     "data": {
      "text/plain": [
       "A         0.000\n",
       "B         0.000\n",
       "C         0.000\n",
       "D         0.280\n",
       "E         0.494\n",
       "F         0.016\n",
       "G         0.000\n",
       "H         0.000\n",
       "Target    0.000\n",
       "dtype: float64"
      ]
     },
     "execution_count": 299,
     "metadata": {},
     "output_type": "execute_result"
    }
   ],
   "source": [
    "# Checking the percentage of missing data in train data\n",
    "train.isna().sum()/train.shape[0]"
   ]
  },
  {
   "cell_type": "code",
   "execution_count": 300,
   "metadata": {},
   "outputs": [
    {
     "data": {
      "text/plain": [
       "A    False\n",
       "B    False\n",
       "C    False\n",
       "D     True\n",
       "E     True\n",
       "F     True\n",
       "G    False\n",
       "H    False\n",
       "dtype: bool"
      ]
     },
     "execution_count": 300,
     "metadata": {},
     "output_type": "execute_result"
    }
   ],
   "source": [
    "# Checking for null values in test \n",
    "test.isna().any()"
   ]
  },
  {
   "cell_type": "code",
   "execution_count": 301,
   "metadata": {},
   "outputs": [
    {
     "data": {
      "text/plain": [
       "A    0.000000\n",
       "B    0.000000\n",
       "C    0.000000\n",
       "D    0.324627\n",
       "E    0.473881\n",
       "F    0.011194\n",
       "G    0.000000\n",
       "H    0.000000\n",
       "dtype: float64"
      ]
     },
     "execution_count": 301,
     "metadata": {},
     "output_type": "execute_result"
    }
   ],
   "source": [
    "# Checking the percentage of missing data in test data\n",
    "test.isna().sum()/test.shape[0]"
   ]
  },
  {
   "cell_type": "markdown",
   "metadata": {},
   "source": [
    "#### Data Imputation for Column D"
   ]
  },
  {
   "cell_type": "code",
   "execution_count": 302,
   "metadata": {},
   "outputs": [
    {
     "data": {
      "text/plain": [
       "<matplotlib.axes._subplots.AxesSubplot at 0x1fd41e20>"
      ]
     },
     "execution_count": 302,
     "metadata": {},
     "output_type": "execute_result"
    },
    {
     "data": {
      "image/png": "[encoded data removed]",
      "text/plain": [
       "<Figure size 360x360 with 1 Axes>"
      ]
     },
     "metadata": {
      "needs_background": "light"
     },
     "output_type": "display_data"
    }
   ],
   "source": [
    "histogram = train['D'].hist(bins=10,figsize=(5,5))\n",
    "histogram"
   ]
  },
  {
   "cell_type": "code",
   "execution_count": 378,
   "metadata": {},
   "outputs": [],
   "source": [
    "# Since the column D has a skewed distribution as seen in the histograms above, \n",
    "# we will fill NA values with the median of the column.\n",
    "\n",
    "train['D']=train['D'].fillna((train['D'].median()))\n",
    "test['D']=test['D'].fillna((test['D'].median()))"
   ]
  },
  {
   "cell_type": "markdown",
   "metadata": {},
   "source": [
    "#### Data Imputation for Column E"
   ]
  },
  {
   "cell_type": "code",
   "execution_count": 304,
   "metadata": {},
   "outputs": [
    {
     "data": {
      "text/plain": [
       "<matplotlib.axes._subplots.AxesSubplot at 0x1fde4850>"
      ]
     },
     "execution_count": 304,
     "metadata": {},
     "output_type": "execute_result"
    },
    {
     "data": {
      "image/png": "[encoded data removed]",
      "text/plain": [
       "<Figure size 360x360 with 1 Axes>"
      ]
     },
     "metadata": {
      "needs_background": "light"
     },
     "output_type": "display_data"
    }
   ],
   "source": [
    "histogram = train['E'].hist(bins=10,figsize=(5,5))\n",
    "histogram"
   ]
  },
  {
   "cell_type": "code",
   "execution_count": 379,
   "metadata": {},
   "outputs": [],
   "source": [
    "# Since the column E has a skewed distribution as seen in the histograms above, \n",
    "# we will fill NA values with the median of the column\n",
    "\n",
    "train['E']=train['E'].fillna((train['E'].median()))\n",
    "test['E']=test['E'].fillna((test['E'].median()))"
   ]
  },
  {
   "cell_type": "markdown",
   "metadata": {},
   "source": [
    "#### Data Imputation for Column F"
   ]
  },
  {
   "cell_type": "code",
   "execution_count": 306,
   "metadata": {},
   "outputs": [
    {
     "data": {
      "text/plain": [
       "<matplotlib.axes._subplots.AxesSubplot at 0x1fda71f0>"
      ]
     },
     "execution_count": 306,
     "metadata": {},
     "output_type": "execute_result"
    },
    {
     "data": {
      "image/png": "[encoded data removed]",
      "text/plain": [
       "<Figure size 360x360 with 1 Axes>"
      ]
     },
     "metadata": {
      "needs_background": "light"
     },
     "output_type": "display_data"
    }
   ],
   "source": [
    "histogram = train['F'].hist(bins=10,figsize=(5,5))\n",
    "histogram"
   ]
  },
  {
   "cell_type": "code",
   "execution_count": 380,
   "metadata": {},
   "outputs": [],
   "source": [
    "# Since the column F has a normal distribution as seen in the histogram above, \n",
    "# we will fill NA values with the mean of the column\n",
    "train['F']=train['F'].fillna((train['F'].mean()))\n",
    "test['F']=test['F'].fillna((test['F'].mean()))"
   ]
  },
  {
   "cell_type": "markdown",
   "metadata": {},
   "source": [
    "#### Data Imputation for Column C"
   ]
  },
  {
   "cell_type": "code",
   "execution_count": 381,
   "metadata": {},
   "outputs": [],
   "source": [
    "# As we see that for column C(Diastolic blood pressure) the minimum value is seen as 0, \n",
    "# which doesn't seem possible and it may be a human error. Hence, we will replace the zeros with the mean of the column C\n",
    " \n",
    "train['C']=train['C'].replace(0,train['C'].mean())\n",
    "test['C']=test['C'].replace(0,test['C'].mean())"
   ]
  },
  {
   "cell_type": "markdown",
   "metadata": {},
   "source": [
    "#### Data Imputation for Column G"
   ]
  },
  {
   "cell_type": "code",
   "execution_count": 382,
   "metadata": {},
   "outputs": [],
   "source": [
    "# We observe that the column G contains probabilities but there are many values greater than 1.\n",
    "# Hence, we will replace all the values greater than 1 as 1.\n",
    "\n",
    "train['G'].values[train['G'] > 1] = 1\n",
    "test['G'].values[test['G'] > 1] = 1"
   ]
  },
  {
   "cell_type": "code",
   "execution_count": 310,
   "metadata": {},
   "outputs": [
    {
     "data": {
      "text/plain": [
       "((500, 9), (268, 8))"
      ]
     },
     "execution_count": 310,
     "metadata": {},
     "output_type": "execute_result"
    }
   ],
   "source": [
    "# Checking the shape of the two datasets\n",
    "train.shape, test.shape"
   ]
  },
  {
   "cell_type": "markdown",
   "metadata": {},
   "source": [
    "# Machine Learning Model"
   ]
  },
  {
   "cell_type": "markdown",
   "metadata": {},
   "source": [
    "## Splitting the dataset into train and test, Scaling the dataset"
   ]
  },
  {
   "cell_type": "code",
   "execution_count": 383,
   "metadata": {},
   "outputs": [
    {
     "data": {
      "text/html": [
       "<div>\n",
       "<style scoped>\n",
       "    .dataframe tbody tr th:only-of-type {\n",
       "        vertical-align: middle;\n",
       "    }\n",
       "\n",
       "    .dataframe tbody tr th {\n",
       "        vertical-align: top;\n",
       "    }\n",
       "\n",
       "    .dataframe thead th {\n",
       "        text-align: right;\n",
       "    }\n",
       "</style>\n",
       "<table border=\"1\" class=\"dataframe\">\n",
       "  <thead>\n",
       "    <tr style=\"text-align: right;\">\n",
       "      <th></th>\n",
       "      <th>A</th>\n",
       "      <th>B</th>\n",
       "      <th>C</th>\n",
       "      <th>D</th>\n",
       "      <th>E</th>\n",
       "      <th>F</th>\n",
       "      <th>G</th>\n",
       "      <th>H</th>\n",
       "    </tr>\n",
       "  </thead>\n",
       "  <tbody>\n",
       "    <tr>\n",
       "      <th>0</th>\n",
       "      <td>5</td>\n",
       "      <td>122</td>\n",
       "      <td>86.0</td>\n",
       "      <td>27.0</td>\n",
       "      <td>67.0</td>\n",
       "      <td>34.7</td>\n",
       "      <td>0.290</td>\n",
       "      <td>33</td>\n",
       "    </tr>\n",
       "    <tr>\n",
       "      <th>1</th>\n",
       "      <td>2</td>\n",
       "      <td>175</td>\n",
       "      <td>88.0</td>\n",
       "      <td>27.0</td>\n",
       "      <td>67.0</td>\n",
       "      <td>22.9</td>\n",
       "      <td>0.326</td>\n",
       "      <td>22</td>\n",
       "    </tr>\n",
       "    <tr>\n",
       "      <th>2</th>\n",
       "      <td>4</td>\n",
       "      <td>129</td>\n",
       "      <td>86.0</td>\n",
       "      <td>2.0</td>\n",
       "      <td>27.0</td>\n",
       "      <td>35.1</td>\n",
       "      <td>0.231</td>\n",
       "      <td>23</td>\n",
       "    </tr>\n",
       "    <tr>\n",
       "      <th>3</th>\n",
       "      <td>12</td>\n",
       "      <td>92</td>\n",
       "      <td>62.0</td>\n",
       "      <td>7.0</td>\n",
       "      <td>258.0</td>\n",
       "      <td>27.6</td>\n",
       "      <td>0.926</td>\n",
       "      <td>44</td>\n",
       "    </tr>\n",
       "    <tr>\n",
       "      <th>4</th>\n",
       "      <td>3</td>\n",
       "      <td>102</td>\n",
       "      <td>44.0</td>\n",
       "      <td>2.0</td>\n",
       "      <td>94.0</td>\n",
       "      <td>3.8</td>\n",
       "      <td>0.400</td>\n",
       "      <td>26</td>\n",
       "    </tr>\n",
       "  </tbody>\n",
       "</table>\n",
       "</div>"
      ],
      "text/plain": [
       "    A    B     C     D      E     F      G   H\n",
       "0   5  122  86.0  27.0   67.0  34.7  0.290  33\n",
       "1   2  175  88.0  27.0   67.0  22.9  0.326  22\n",
       "2   4  129  86.0   2.0   27.0  35.1  0.231  23\n",
       "3  12   92  62.0   7.0  258.0  27.6  0.926  44\n",
       "4   3  102  44.0   2.0   94.0   3.8  0.400  26"
      ]
     },
     "execution_count": 383,
     "metadata": {},
     "output_type": "execute_result"
    }
   ],
   "source": [
    "X = train.drop(['Target'],axis=1)\n",
    "y = train['Target']\n",
    "X.head()"
   ]
  },
  {
   "cell_type": "code",
   "execution_count": 312,
   "metadata": {},
   "outputs": [
    {
     "data": {
      "text/plain": [
       "0      0\n",
       "1      0\n",
       "2      0\n",
       "3      1\n",
       "4      0\n",
       "      ..\n",
       "495    0\n",
       "496    0\n",
       "497    0\n",
       "498    0\n",
       "499    0\n",
       "Name: Target, Length: 500, dtype: int64"
      ]
     },
     "execution_count": 312,
     "metadata": {},
     "output_type": "execute_result"
    }
   ],
   "source": [
    "y"
   ]
  },
  {
   "cell_type": "code",
   "execution_count": 384,
   "metadata": {},
   "outputs": [],
   "source": [
    "from sklearn.preprocessing import MinMaxScaler\n",
    "from sklearn.model_selection import train_test_split\n",
    "\n",
    "X_train_org, X_test_org, y_train, y_test = train_test_split(X, y, stratify=y, random_state = 0)\n",
    "\n",
    "scaler = MinMaxScaler()\n",
    "X_train = scaler.fit_transform(X_train_org)\n",
    "X_test = scaler.transform(X_test_org)"
   ]
  },
  {
   "cell_type": "markdown",
   "metadata": {},
   "source": [
    "## Logistic Regression"
   ]
  },
  {
   "cell_type": "code",
   "execution_count": 314,
   "metadata": {},
   "outputs": [],
   "source": [
    "from sklearn.linear_model import LogisticRegression\n",
    "\n",
    "c_range = [0.001, 0.01, 0.1, 1, 10, 100, 1000]\n",
    "train_score_l1 = []\n",
    "train_score_l2 = []\n",
    "test_score_l1 = []\n",
    "test_score_l2 = []\n",
    "\n",
    "for c in c_range:\n",
    "    log_l1 = LogisticRegression(penalty = 'l1', C = c,solver='liblinear')\n",
    "    log_l2 = LogisticRegression(penalty = 'l2', C = c)\n",
    "    log_l1.fit(X_train, y_train)\n",
    "    log_l2.fit(X_train, y_train)\n",
    "    train_score_l1.append(log_l1.score(X_train, y_train))\n",
    "    train_score_l2.append(log_l2.score(X_train, y_train))\n",
    "    test_score_l1.append(log_l1.score(X_test, y_test))\n",
    "    test_score_l2.append(log_l2.score(X_test, y_test))"
   ]
  },
  {
   "cell_type": "code",
   "execution_count": 315,
   "metadata": {},
   "outputs": [
    {
     "name": "stdout",
     "output_type": "stream",
     "text": [
      "[0.6746666666666666, 0.6746666666666666, 0.6746666666666666, 0.7893333333333333, 0.7893333333333333, 0.7866666666666666, 0.7866666666666666]\n",
      "[0.68, 0.68, 0.68, 0.776, 0.784, 0.784, 0.784]\n",
      "[0.6746666666666666, 0.6746666666666666, 0.6906666666666667, 0.7946666666666666, 0.7946666666666666, 0.7866666666666666, 0.7866666666666666]\n",
      "[0.68, 0.68, 0.68, 0.776, 0.784, 0.784, 0.784]\n"
     ]
    }
   ],
   "source": [
    "print(train_score_l1)\n",
    "print(test_score_l1)\n",
    "print(train_score_l2)\n",
    "print(test_score_l2)"
   ]
  },
  {
   "cell_type": "code",
   "execution_count": 316,
   "metadata": {},
   "outputs": [
    {
     "data": {
      "image/png": "[encoded data removed]",
      "text/plain": [
       "<Figure size 432x288 with 1 Axes>"
      ]
     },
     "metadata": {
      "needs_background": "light"
     },
     "output_type": "display_data"
    }
   ],
   "source": [
    "import matplotlib.pyplot as plt\n",
    "%matplotlib inline\n",
    "\n",
    "plt.plot(c_range, train_score_l1, label = 'Train score, penalty = l1')\n",
    "plt.plot(c_range, test_score_l1, label = 'Test score, penalty = l1')\n",
    "plt.plot(c_range, train_score_l2, label = 'Train score, penalty = l2')\n",
    "plt.plot(c_range, test_score_l2, label = 'Test score, penalty = l2')\n",
    "plt.legend()\n",
    "plt.xlabel('Regularization parameter: C')\n",
    "plt.ylabel('Accuracy')\n",
    "plt.xscale('log')"
   ]
  },
  {
   "cell_type": "markdown",
   "metadata": {},
   "source": [
    "#### We get the best score for penalty = L2  and C = 1 . Train Score: 0.7946 , Test Score: 0.784"
   ]
  },
  {
   "cell_type": "markdown",
   "metadata": {},
   "source": [
    "## KNeighbours Classifier"
   ]
  },
  {
   "cell_type": "code",
   "execution_count": 317,
   "metadata": {},
   "outputs": [],
   "source": [
    "from sklearn.neighbors import KNeighborsClassifier\n",
    "\n",
    "train_score_array = []\n",
    "test_score_array = []\n",
    "\n",
    "for k in range(1,20):\n",
    "    knn = KNeighborsClassifier(k)\n",
    "    knn.fit(X_train, y_train)\n",
    "    train_score_array.append(knn.score(X_train, y_train))\n",
    "    test_score_array.append(knn.score(X_test, y_test))"
   ]
  },
  {
   "cell_type": "code",
   "execution_count": 318,
   "metadata": {},
   "outputs": [
    {
     "data": {
      "text/plain": [
       "<matplotlib.legend.Legend at 0x1f8064d8>"
      ]
     },
     "execution_count": 318,
     "metadata": {},
     "output_type": "execute_result"
    },
    {
     "data": {
      "image/png": "[encoded data removed]",
      "text/plain": [
       "<Figure size 432x288 with 1 Axes>"
      ]
     },
     "metadata": {
      "needs_background": "light"
     },
     "output_type": "display_data"
    }
   ],
   "source": [
    "x_axis = range(1,20,1)\n",
    "%matplotlib inline\n",
    "plt.plot(x_axis, train_score_array, label = 'Train Score', c = 'g')\n",
    "plt.plot(x_axis, test_score_array, label = 'Test Score', c='b')\n",
    "plt.xlabel('k')\n",
    "plt.ylabel('Accuracy')\n",
    "plt.legend()"
   ]
  },
  {
   "cell_type": "code",
   "execution_count": 329,
   "metadata": {},
   "outputs": [
    {
     "name": "stdout",
     "output_type": "stream",
     "text": [
      "Train score: 0.7920\n",
      "Test score: 0.7680\n"
     ]
    }
   ],
   "source": [
    "# As seen from the graph above, we get best scores for n = 19 \n",
    "knn = KNeighborsClassifier(19)\n",
    "knn.fit(X_train, y_train)\n",
    "print('Train score: {:.4f}'.format(knn.score(X_train, y_train)))\n",
    "print('Test score: {:.4f}'.format(knn.score(X_test, y_test)))"
   ]
  },
  {
   "cell_type": "markdown",
   "metadata": {},
   "source": [
    "#### We get the best score for n = 19 . Train Score: 0.792 , Test Score: 0.768"
   ]
  },
  {
   "cell_type": "markdown",
   "metadata": {},
   "source": [
    "## Decision Tree"
   ]
  },
  {
   "cell_type": "code",
   "execution_count": 330,
   "metadata": {},
   "outputs": [
    {
     "name": "stdout",
     "output_type": "stream",
     "text": [
      "Accuracy on training set: 1.000\n",
      "Accuracy on test set: 0.688\n"
     ]
    }
   ],
   "source": [
    "%matplotlib notebook\n",
    "from sklearn.tree import DecisionTreeClassifier\n",
    "\n",
    "dtree = DecisionTreeClassifier(random_state=0)\n",
    "\n",
    "dtree.fit(X_train, y_train)\n",
    "print(\"Accuracy on training set: {:.3f}\".format(dtree.score(X_train, y_train)))\n",
    "print(\"Accuracy on test set: {:.3f}\".format(dtree.score(X_test, y_test)))"
   ]
  },
  {
   "cell_type": "code",
   "execution_count": 331,
   "metadata": {},
   "outputs": [],
   "source": [
    "train_score_array = []\n",
    "test_score_array = []\n",
    "\n",
    "for k in range(1,20,1):\n",
    "    dtrees = DecisionTreeClassifier(max_depth=k)\n",
    "    dtrees.fit(X_train, y_train)\n",
    "    train_score_array.append(dtrees.score(X_train, y_train))\n",
    "    test_score_array.append(dtrees.score(X_test, y_test))"
   ]
  },
  {
   "cell_type": "code",
   "execution_count": 332,
   "metadata": {},
   "outputs": [
    {
     "data": {
      "text/plain": [
       "<matplotlib.legend.Legend at 0x1fde4c88>"
      ]
     },
     "execution_count": 332,
     "metadata": {},
     "output_type": "execute_result"
    },
    {
     "data": {
      "image/png": "[encoded data removed]",
      "text/plain": [
       "<Figure size 432x288 with 1 Axes>"
      ]
     },
     "metadata": {
      "needs_background": "light"
     },
     "output_type": "display_data"
    }
   ],
   "source": [
    "x_axis = range(1,20)\n",
    "%matplotlib inline\n",
    "plt.plot(x_axis, train_score_array, label = 'Train Score', c = 'g')\n",
    "plt.plot(x_axis, test_score_array, label = 'Test Score', c='b')\n",
    "plt.xlabel('k')\n",
    "plt.ylabel('Accuracy')\n",
    "plt.legend()"
   ]
  },
  {
   "cell_type": "code",
   "execution_count": 336,
   "metadata": {},
   "outputs": [
    {
     "name": "stdout",
     "output_type": "stream",
     "text": [
      "Accuracy on training set: 0.811\n",
      "Accuracy on test set: 0.744\n"
     ]
    }
   ],
   "source": [
    "# As we see in the above graph, we get the best scores for depth = 3 \n",
    "dtree = DecisionTreeClassifier(max_depth=3, random_state=0)\n",
    "dtree.fit(X_train, y_train)\n",
    "\n",
    "print(\"Accuracy on training set: {:.3f}\".format(dtree.score(X_train, y_train)))\n",
    "print(\"Accuracy on test set: {:.3f}\".format(dtree.score(X_test, y_test)))"
   ]
  },
  {
   "cell_type": "markdown",
   "metadata": {},
   "source": [
    "#### We get the best score for depth = 3 . Train Score: 0.811 , Test Score: 0.744"
   ]
  },
  {
   "cell_type": "markdown",
   "metadata": {},
   "source": [
    "## LinearSVC"
   ]
  },
  {
   "cell_type": "code",
   "execution_count": 338,
   "metadata": {},
   "outputs": [
    {
     "name": "stdout",
     "output_type": "stream",
     "text": [
      "Size of training set: 375   size of test set: 125\n",
      "Best train score: 0.7893\n",
      "Best test score: 0.7840\n",
      "Best parameters: {'C': 1}\n"
     ]
    }
   ],
   "source": [
    "from sklearn.svm import SVC\n",
    "from sklearn.svm import LinearSVC\n",
    "\n",
    "print(\"Size of training set: {}   size of test set: {}\".format(X_train.shape[0], X_test.shape[0]))\n",
    "\n",
    "best_score = 0\n",
    "\n",
    "for C in [0.001,0.01, 0.1, 1, 10,100]:\n",
    "    svm = LinearSVC(C=C,dual=False)\n",
    "    svm.fit(X_train, y_train)\n",
    "    score = svm.score(X_test, y_test)\n",
    "    score1 = svm.score(X_train,y_train)\n",
    "    if score > best_score:\n",
    "        best_score = score\n",
    "        best_train_score = score1\n",
    "        best_parameters = {'C': C}\n",
    "\n",
    "print(\"Best train score: {:.4f}\".format(best_train_score))\n",
    "print(\"Best test score: {:.4f}\".format(best_score))\n",
    "print(\"Best parameters: {}\".format(best_parameters))"
   ]
  },
  {
   "cell_type": "markdown",
   "metadata": {},
   "source": [
    "#### We get the best score for C = 1 . Train Score: 0.7893 , Test Score: 0.7840"
   ]
  },
  {
   "cell_type": "markdown",
   "metadata": {},
   "source": [
    "# SVC with Linear Kernel"
   ]
  },
  {
   "cell_type": "code",
   "execution_count": 345,
   "metadata": {},
   "outputs": [
    {
     "data": {
      "text/plain": [
       "GridSearchCV(cv=10, estimator=SVC(kernel='linear'),\n",
       "             param_grid={'C': [0.001, 0.01, 0.1, 1, 10, 100],\n",
       "                         'gamma': [0.001, 0.01, 0.1, 1, 10, 100]},\n",
       "             return_train_score=True)"
      ]
     },
     "execution_count": 345,
     "metadata": {},
     "output_type": "execute_result"
    }
   ],
   "source": [
    "from sklearn.model_selection import GridSearchCV\n",
    "from sklearn.svm import SVC\n",
    "\n",
    "param_grid = {'C': [0.001, 0.01, 0.1, 1, 10, 100],\n",
    "              'gamma': [0.001, 0.01, 0.1, 1, 10, 100]}\n",
    "\n",
    "grid_search = GridSearchCV(SVC(kernel = 'linear'), param_grid, cv=10, return_train_score=True)\n",
    "grid_search.fit(X_train, y_train)"
   ]
  },
  {
   "cell_type": "code",
   "execution_count": 346,
   "metadata": {},
   "outputs": [
    {
     "name": "stdout",
     "output_type": "stream",
     "text": [
      "Best parameters: {'C': 10, 'gamma': 0.001}\n",
      "Best cross-validation score: 0.79\n",
      "Best training score: 0.8\n",
      "Best testing score: 0.78\n"
     ]
    }
   ],
   "source": [
    "print(\"Best parameters: {}\".format(grid_search.best_params_))\n",
    "print(\"Best cross-validation score: {:.2f}\".format(grid_search.best_score_))\n",
    "print(\"Best training score: {}\".format(grid_search.score(X_train,y_train)))\n",
    "print(\"Best testing score: {:.2f}\".format(grid_search.score(X_test,y_test)))"
   ]
  },
  {
   "cell_type": "markdown",
   "metadata": {},
   "source": [
    "#### We get the best score for C = 10 and Gamma = 0.001. Train Score: 0.80 , Test Score: 0.78"
   ]
  },
  {
   "cell_type": "markdown",
   "metadata": {},
   "source": [
    "# SVC with Poly Kernel"
   ]
  },
  {
   "cell_type": "code",
   "execution_count": 343,
   "metadata": {},
   "outputs": [
    {
     "data": {
      "text/plain": [
       "GridSearchCV(cv=10, estimator=SVC(kernel='poly'),\n",
       "             param_grid={'C': [0.001, 0.01, 0.1, 1, 10, 100]},\n",
       "             return_train_score=True)"
      ]
     },
     "execution_count": 343,
     "metadata": {},
     "output_type": "execute_result"
    }
   ],
   "source": [
    "from sklearn.model_selection import GridSearchCV\n",
    "from sklearn.svm import SVC\n",
    "\n",
    "param_grid = {'C': [0.001, 0.01, 0.1, 1, 10, 100]}\n",
    "\n",
    "grid_search = GridSearchCV(SVC(kernel = 'poly'), param_grid, cv=10, return_train_score=True)\n",
    "grid_search.fit(X_train, y_train)"
   ]
  },
  {
   "cell_type": "code",
   "execution_count": 344,
   "metadata": {},
   "outputs": [
    {
     "name": "stdout",
     "output_type": "stream",
     "text": [
      "Best parameters: {'C': 0.1}\n",
      "Best cross-validation score: 0.81\n",
      "Best training score: 0.8186666666666667\n",
      "Best testing score: 0.78\n"
     ]
    }
   ],
   "source": [
    "print(\"Best parameters: {}\".format(grid_search.best_params_))\n",
    "print(\"Best cross-validation score: {:.2f}\".format(grid_search.best_score_))\n",
    "print(\"Best training score: {}\".format(grid_search.score(X_train,y_train)))\n",
    "print(\"Best testing score: {:.2f}\".format(grid_search.score(X_test,y_test)))"
   ]
  },
  {
   "cell_type": "markdown",
   "metadata": {},
   "source": [
    "#### We get the best score for C = 0.1 . Train Score: 0.8186 , Test Score: 0.78"
   ]
  },
  {
   "cell_type": "markdown",
   "metadata": {},
   "source": [
    "# SVC with RBF Kernel"
   ]
  },
  {
   "cell_type": "code",
   "execution_count": 347,
   "metadata": {},
   "outputs": [
    {
     "data": {
      "text/plain": [
       "GridSearchCV(cv=10, estimator=SVC(),\n",
       "             param_grid={'C': [0.001, 0.01, 0.1, 1, 10, 100],\n",
       "                         'gamma': [0.001, 0.01, 0.1, 1, 10, 100]},\n",
       "             return_train_score=True)"
      ]
     },
     "execution_count": 347,
     "metadata": {},
     "output_type": "execute_result"
    }
   ],
   "source": [
    "from sklearn.model_selection import GridSearchCV\n",
    "from sklearn.svm import SVC\n",
    "\n",
    "param_grid = {'C': [0.001, 0.01, 0.1, 1, 10, 100],\n",
    "              'gamma': [0.001, 0.01, 0.1, 1, 10, 100]}\n",
    "\n",
    "grid_search = GridSearchCV(SVC(kernel = 'rbf'), param_grid, cv=10, return_train_score=True)\n",
    "grid_search.fit(X_train, y_train)"
   ]
  },
  {
   "cell_type": "code",
   "execution_count": 354,
   "metadata": {},
   "outputs": [
    {
     "name": "stdout",
     "output_type": "stream",
     "text": [
      "Best parameters: {'C': 1, 'gamma': 1}\n",
      "Best cross-validation score: 0.81\n",
      "Best training score: 0.8213\n",
      "Best testing score: 0.7920\n"
     ]
    }
   ],
   "source": [
    "print(\"Best parameters: {}\".format(grid_search.best_params_))\n",
    "print(\"Best cross-validation score: {:.2f}\".format(grid_search.best_score_))\n",
    "print(\"Best training score: {:.4f}\".format(grid_search.score(X_train,y_train)))\n",
    "print(\"Best testing score: {:.4f}\".format(grid_search.score(X_test,y_test)))"
   ]
  },
  {
   "cell_type": "markdown",
   "metadata": {},
   "source": [
    "#### We get the best score for C = 1 and Gamma = 1 . Train Score: 0.8213 , Test Score: 0.792"
   ]
  },
  {
   "cell_type": "markdown",
   "metadata": {},
   "source": [
    "# Final Prediction"
   ]
  },
  {
   "cell_type": "markdown",
   "metadata": {},
   "source": [
    "#### We choose the SVC with RBF Kernel model since it gives the best scores"
   ]
  },
  {
   "cell_type": "code",
   "execution_count": 385,
   "metadata": {},
   "outputs": [
    {
     "data": {
      "text/plain": [
       "SVC(C=1, gamma=1)"
      ]
     },
     "execution_count": 385,
     "metadata": {},
     "output_type": "execute_result"
    }
   ],
   "source": [
    "from sklearn.model_selection import GridSearchCV\n",
    "from sklearn.svm import SVC\n",
    "\n",
    "model = SVC(kernel='rbf', gamma=1, C=1)\n",
    "model.fit(X_train, y_train)"
   ]
  },
  {
   "cell_type": "code",
   "execution_count": 388,
   "metadata": {},
   "outputs": [],
   "source": [
    "scaler = MinMaxScaler()\n",
    "test_x = scaler.fit_transform(test)"
   ]
  },
  {
   "cell_type": "code",
   "execution_count": 389,
   "metadata": {},
   "outputs": [
    {
     "data": {
      "text/html": [
       "<div>\n",
       "<style scoped>\n",
       "    .dataframe tbody tr th:only-of-type {\n",
       "        vertical-align: middle;\n",
       "    }\n",
       "\n",
       "    .dataframe tbody tr th {\n",
       "        vertical-align: top;\n",
       "    }\n",
       "\n",
       "    .dataframe thead th {\n",
       "        text-align: right;\n",
       "    }\n",
       "</style>\n",
       "<table border=\"1\" class=\"dataframe\">\n",
       "  <thead>\n",
       "    <tr style=\"text-align: right;\">\n",
       "      <th></th>\n",
       "      <th>Target</th>\n",
       "    </tr>\n",
       "  </thead>\n",
       "  <tbody>\n",
       "    <tr>\n",
       "      <th>0</th>\n",
       "      <td>1</td>\n",
       "    </tr>\n",
       "    <tr>\n",
       "      <th>1</th>\n",
       "      <td>0</td>\n",
       "    </tr>\n",
       "    <tr>\n",
       "      <th>2</th>\n",
       "      <td>0</td>\n",
       "    </tr>\n",
       "    <tr>\n",
       "      <th>3</th>\n",
       "      <td>0</td>\n",
       "    </tr>\n",
       "    <tr>\n",
       "      <th>4</th>\n",
       "      <td>1</td>\n",
       "    </tr>\n",
       "    <tr>\n",
       "      <th>...</th>\n",
       "      <td>...</td>\n",
       "    </tr>\n",
       "    <tr>\n",
       "      <th>263</th>\n",
       "      <td>1</td>\n",
       "    </tr>\n",
       "    <tr>\n",
       "      <th>264</th>\n",
       "      <td>0</td>\n",
       "    </tr>\n",
       "    <tr>\n",
       "      <th>265</th>\n",
       "      <td>0</td>\n",
       "    </tr>\n",
       "    <tr>\n",
       "      <th>266</th>\n",
       "      <td>0</td>\n",
       "    </tr>\n",
       "    <tr>\n",
       "      <th>267</th>\n",
       "      <td>0</td>\n",
       "    </tr>\n",
       "  </tbody>\n",
       "</table>\n",
       "<p>268 rows × 1 columns</p>\n",
       "</div>"
      ],
      "text/plain": [
       "     Target\n",
       "0         1\n",
       "1         0\n",
       "2         0\n",
       "3         0\n",
       "4         1\n",
       "..      ...\n",
       "263       1\n",
       "264       0\n",
       "265       0\n",
       "266       0\n",
       "267       0\n",
       "\n",
       "[268 rows x 1 columns]"
      ]
     },
     "execution_count": 389,
     "metadata": {},
     "output_type": "execute_result"
    }
   ],
   "source": [
    "test_predict = model.predict(test_x)\n",
    "test_predict = pd.DataFrame(test_predict,index=test.index,columns=['Target'])\n",
    "test_predict"
   ]
  },
  {
   "cell_type": "code",
   "execution_count": 390,
   "metadata": {},
   "outputs": [],
   "source": [
    "test_predict.to_csv('test.csv', mode='a', index = False)"
   ]
  }
 ],
 "metadata": {
  "kernelspec": {
   "display_name": "Python 3",
   "language": "python",
   "name": "python3"
  },
  "language_info": {
   "codemirror_mode": {
    "name": "ipython",
    "version": 3
   },
   "file_extension": ".py",
   "mimetype": "text/x-python",
   "name": "python",
   "nbconvert_exporter": "python",
   "pygments_lexer": "ipython3",
   "version": "3.8.3"
  }
 },
 "nbformat": 4,
 "nbformat_minor": 2
}
